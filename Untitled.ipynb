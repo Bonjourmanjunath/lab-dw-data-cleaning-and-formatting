{
 "cells": [
  {
   "cell_type": "code",
   "execution_count": 5,
   "id": "d33fce2b",
   "metadata": {},
   "outputs": [],
   "source": [
    "\n",
    "def convert_data_types(df):\n",
    "    # Convert columns to the desired data types\n",
    "    df[\"number_of_open_complaints\"] = df[\"number_of_open_complaints\"].astype(str)\n",
    "    df[\"gender\"] = df[\"gender\"].astype(bool)\n",
    "    df[\"vehicle_class\"] = df[\"vehicle_class\"].astype(str)\n",
    "    df[\"policy_type\"] = df[\"policy_type\"].astype(str)\n",
    "\n",
    "    return df\n",
    "\n",
    "\n",
    "def lower_snake(df):\n",
    "    lower_and_snake = lambda x: x.lower().replace(\" \", \"_\")\n",
    "    df.columns = list(map(lower_and_snake, list(df.columns)))\n",
    "    return df\n",
    "\n",
    "\n",
    "\n",
    "\n",
    "def standardize_gender(df)\n",
    "    \n",
    "    df['gender'] = df['gender'].replace(\"F\", \"female\")\n",
    "    df['gender'] = df['gender'].replace(\"M\", \"male\")\n",
    "\n",
    "    return df\n"
   ]
  }
 ],
 "metadata": {
  "kernelspec": {
   "display_name": "Python 3 (ipykernel)",
   "language": "python",
   "name": "python3"
  },
  "language_info": {
   "codemirror_mode": {
    "name": "ipython",
    "version": 3
   },
   "file_extension": ".py",
   "mimetype": "text/x-python",
   "name": "python",
   "nbconvert_exporter": "python",
   "pygments_lexer": "ipython3",
   "version": "3.10.9"
  }
 },
 "nbformat": 4,
 "nbformat_minor": 5
}
